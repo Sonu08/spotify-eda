{
 "cells": [
  {
   "cell_type": "markdown",
   "id": "5ff22946",
   "metadata": {},
   "source": [
    "# Spotify Data Analysis"
   ]
  },
  {
   "cell_type": "code",
   "execution_count": null,
   "id": "8eae63e8",
   "metadata": {},
   "outputs": [],
   "source": [
    "import numpy as np\n",
    "import pandas as pd\n",
    "import matplotlib.pyplot as plt\n",
    "import seaborn as sns"
   ]
  },
  {
   "cell_type": "code",
   "execution_count": null,
   "id": "bf5ee882",
   "metadata": {},
   "outputs": [],
   "source": [
    "df_tracks = pd.read_csv('tracks.csv')"
   ]
  },
  {
   "cell_type": "code",
   "execution_count": null,
   "id": "78c9ca7b",
   "metadata": {},
   "outputs": [],
   "source": [
    "df_tracks.info()"
   ]
  },
  {
   "cell_type": "code",
   "execution_count": null,
   "id": "2d90dde5",
   "metadata": {},
   "outputs": [],
   "source": [
    "df_tracks.head()"
   ]
  },
  {
   "cell_type": "code",
   "execution_count": null,
   "id": "0d4a81f6",
   "metadata": {},
   "outputs": [],
   "source": [
    "# Checking null values\n",
    "\n",
    "pd.isnull(df_tracks).sum()"
   ]
  },
  {
   "cell_type": "code",
   "execution_count": null,
   "id": "4f3bccf2",
   "metadata": {},
   "outputs": [],
   "source": [
    "# Top 10 least popular songs\n",
    "sorted_df = df_tracks.sort_values('popularity', ascending=True).head(10)\n",
    "sorted_df"
   ]
  },
  {
   "cell_type": "code",
   "execution_count": null,
   "id": "fc7c393a",
   "metadata": {},
   "outputs": [],
   "source": [
    "df_tracks.describe().transpose()"
   ]
  },
  {
   "cell_type": "code",
   "execution_count": null,
   "id": "a1ece4b4",
   "metadata": {},
   "outputs": [],
   "source": [
    "most_popular = df_tracks.query('popularity>90', inplace=False).sort_values('popularity', ascending=False)\n",
    "most_popular[:10]"
   ]
  },
  {
   "cell_type": "code",
   "execution_count": null,
   "id": "a19a6fd2",
   "metadata": {},
   "outputs": [],
   "source": [
    "df_tracks.set_index('release_date', inplace=True)\n",
    "df_tracks.index=pd.to_datetime(df_tracks.index)\n",
    "df_tracks.head()"
   ]
  },
  {
   "cell_type": "code",
   "execution_count": null,
   "id": "2debcfb4",
   "metadata": {},
   "outputs": [],
   "source": [
    "# Indicing along the columns and indexes\n",
    "\n",
    "df_tracks[['artists', 'name']].iloc[18]"
   ]
  },
  {
   "cell_type": "code",
   "execution_count": null,
   "id": "fdba5f66",
   "metadata": {},
   "outputs": [],
   "source": [
    "# Converting the duration in miliseconds into seconds\n",
    "\n",
    "df_tracks[\"duration\"] = df_tracks[\"duration_ms\"].apply(lambda x: round(x/1000))\n",
    "df_tracks.drop(\"duration_ms\", inplace=True, axis=1)"
   ]
  },
  {
   "cell_type": "code",
   "execution_count": null,
   "id": "5433bc2c",
   "metadata": {},
   "outputs": [],
   "source": [
    "df_tracks.head()"
   ]
  },
  {
   "cell_type": "code",
   "execution_count": null,
   "id": "5111b3c0",
   "metadata": {},
   "outputs": [],
   "source": [
    "# The most popular artist and song\n",
    "# Which artist has the most listener on Spotify?"
   ]
  },
  {
   "cell_type": "code",
   "execution_count": null,
   "id": "a1d6be95",
   "metadata": {},
   "outputs": [],
   "source": [
    "#Finding the correlation between the numerical features\n",
    "corr_df = df_tracks.drop(['key', 'mode', 'explicit'], axis=1).corr(method='pearson')\n",
    "\n",
    "#Plotting some visualization\n",
    "plt.figure(figsize=(14,6))\n",
    "\n",
    "heatmap = sns.heatmap(corr_df, annot=True, fmt=\".1g\", vmin=-1, vmax=1, center=0, cmap=\"inferno\", linewidths=1, linecolor=\"Black\")\n",
    "heatmap.set_title(\"Correlation HeatMap Between Variable\")\n",
    "heatmap.set_xticklabels(heatmap.get_xticklabels(), rotation=90)"
   ]
  },
  {
   "cell_type": "code",
   "execution_count": null,
   "id": "81f7270c",
   "metadata": {},
   "outputs": [],
   "source": [
    "# Taking 0.4% smaple from the population for further analysis\n",
    "sample_df = df_tracks.sample(int(0.004*len(df_tracks)))"
   ]
  },
  {
   "cell_type": "code",
   "execution_count": null,
   "id": "607d0ca6",
   "metadata": {},
   "outputs": [],
   "source": [
    "sample_df.head()"
   ]
  },
  {
   "cell_type": "code",
   "execution_count": null,
   "id": "11535c64",
   "metadata": {},
   "outputs": [],
   "source": [
    "# Making regression plot between energy and loudness\n",
    "# Because in our population heatmap we saw that energy and loudness has 0.8 correlation between them\n",
    "# Let's find out the same for the sample size\n",
    "\n",
    "plt.figure(figsize=(10,6))\n",
    "sns.regplot(data=sample_df, y=\"loudness\", x=\"energy\", color=\"c\").set(title=\"Loudness Vs. Energy Correlation\")"
   ]
  },
  {
   "cell_type": "code",
   "execution_count": null,
   "id": "6231fb53",
   "metadata": {},
   "outputs": [],
   "source": [
    "# Let's find out the regression between popularity and acousticness\n",
    "\n",
    "plt.figure(figsize=(10,6))\n",
    "sns.regplot(data=sample_df, y=\"popularity\", x=\"acousticness\", color=\"b\").set(title=\"Popularity Vs. Acousticness Correlation\")"
   ]
  },
  {
   "cell_type": "code",
   "execution_count": null,
   "id": "506881da",
   "metadata": {},
   "outputs": [],
   "source": [
    "# Converting 'release_date' indexing to 'datetime' indexing\n",
    "\n",
    "df_tracks['dates'] = df_tracks.index.get_level_values('release_date')\n",
    "df_tracks.dates = pd.to_datetime(df_tracks.dates)\n",
    "years = df_tracks.dates.dt.year"
   ]
  },
  {
   "cell_type": "code",
   "execution_count": null,
   "id": "c4a27942",
   "metadata": {},
   "outputs": [],
   "source": [
    "# Making a histogram for finding out the total number of songs against every year\n",
    "\n",
    "sns.displot(years, discrete=True, aspect=2, height=5, kind='hist').set(title='Number of songs per year')"
   ]
  },
  {
   "cell_type": "code",
   "execution_count": null,
   "id": "dba684ef",
   "metadata": {},
   "outputs": [],
   "source": [
    "# Now doing the regression for the duration of the song\n",
    "# 'fig_dims' stands for figure dimensions\n",
    "# 'fig, ax' stands for figure and axes\n",
    "\n",
    "total_dr = df_tracks.duration\n",
    "fig_dims = (18, 7)\n",
    "fig, ax = plt.subplots(figsize=fig_dims)\n",
    "fig = sns.barplot(x=years, y=total_dr, ax=ax, errwidth=False).set(title=\"Year Vs. Duration\")\n",
    "plt.xticks(rotation=90)"
   ]
  },
  {
   "cell_type": "code",
   "execution_count": null,
   "id": "e932e5ac",
   "metadata": {},
   "outputs": [],
   "source": [
    "# Let's find out the average song duration against years by using the line plot\n",
    "\n",
    "total_dr = df_tracks.duration\n",
    "sns.set_style(style='whitegrid')\n",
    "fig_dims = (10, 5)\n",
    "fig, ax = plt.subplots(figsize=fig_dims)\n",
    "fig = sns.lineplot(x=years, y=total_dr, ax=ax).set(title=\"Years Vs. Duartion\")\n",
    "plt.xticks(rotation=60)"
   ]
  },
  {
   "cell_type": "code",
   "execution_count": null,
   "id": "1d4b5dea",
   "metadata": {},
   "outputs": [],
   "source": [
    "df_genre = pd.read_csv('SpotifyFeatures.csv')"
   ]
  },
  {
   "cell_type": "code",
   "execution_count": null,
   "id": "c07f5caf",
   "metadata": {},
   "outputs": [],
   "source": []
  },
  {
   "cell_type": "code",
   "execution_count": null,
   "id": "c98247ba",
   "metadata": {},
   "outputs": [],
   "source": []
  },
  {
   "cell_type": "code",
   "execution_count": null,
   "id": "07641fa9",
   "metadata": {},
   "outputs": [],
   "source": []
  },
  {
   "cell_type": "code",
   "execution_count": null,
   "id": "d6f47993",
   "metadata": {},
   "outputs": [],
   "source": []
  },
  {
   "cell_type": "code",
   "execution_count": null,
   "id": "3c3dc866",
   "metadata": {},
   "outputs": [],
   "source": []
  },
  {
   "cell_type": "code",
   "execution_count": null,
   "id": "79d3286a",
   "metadata": {},
   "outputs": [],
   "source": []
  },
  {
   "cell_type": "code",
   "execution_count": null,
   "id": "d8d2bac1",
   "metadata": {},
   "outputs": [],
   "source": []
  },
  {
   "cell_type": "code",
   "execution_count": null,
   "id": "ee3b45d2",
   "metadata": {},
   "outputs": [],
   "source": []
  },
  {
   "cell_type": "code",
   "execution_count": null,
   "id": "95cfa07f",
   "metadata": {},
   "outputs": [],
   "source": []
  },
  {
   "cell_type": "code",
   "execution_count": null,
   "id": "e678362e",
   "metadata": {},
   "outputs": [],
   "source": []
  },
  {
   "cell_type": "code",
   "execution_count": null,
   "id": "54452701",
   "metadata": {},
   "outputs": [],
   "source": []
  },
  {
   "cell_type": "code",
   "execution_count": null,
   "id": "4cac8894",
   "metadata": {},
   "outputs": [],
   "source": []
  },
  {
   "cell_type": "code",
   "execution_count": null,
   "id": "c8b27d9d",
   "metadata": {},
   "outputs": [],
   "source": []
  },
  {
   "cell_type": "code",
   "execution_count": null,
   "id": "abd6b427",
   "metadata": {},
   "outputs": [],
   "source": []
  },
  {
   "cell_type": "code",
   "execution_count": null,
   "id": "0155349b",
   "metadata": {},
   "outputs": [],
   "source": []
  },
  {
   "cell_type": "code",
   "execution_count": null,
   "id": "96ce51e1",
   "metadata": {},
   "outputs": [],
   "source": []
  },
  {
   "cell_type": "code",
   "execution_count": null,
   "id": "39e336b2",
   "metadata": {},
   "outputs": [],
   "source": []
  },
  {
   "cell_type": "code",
   "execution_count": null,
   "id": "c89b67d8",
   "metadata": {},
   "outputs": [],
   "source": []
  },
  {
   "cell_type": "code",
   "execution_count": null,
   "id": "b295ee4a",
   "metadata": {},
   "outputs": [],
   "source": []
  },
  {
   "cell_type": "code",
   "execution_count": null,
   "id": "980d7b68",
   "metadata": {},
   "outputs": [],
   "source": []
  },
  {
   "cell_type": "code",
   "execution_count": null,
   "id": "643fe8b8",
   "metadata": {},
   "outputs": [],
   "source": []
  },
  {
   "cell_type": "code",
   "execution_count": null,
   "id": "ecf3b060",
   "metadata": {},
   "outputs": [],
   "source": []
  },
  {
   "cell_type": "code",
   "execution_count": null,
   "id": "07305e20",
   "metadata": {},
   "outputs": [],
   "source": []
  },
  {
   "cell_type": "code",
   "execution_count": null,
   "id": "1622c99d",
   "metadata": {},
   "outputs": [],
   "source": []
  }
 ],
 "metadata": {
  "kernelspec": {
   "display_name": "Python 3 (ipykernel)",
   "language": "python",
   "name": "python3"
  },
  "language_info": {
   "codemirror_mode": {
    "name": "ipython",
    "version": 3
   },
   "file_extension": ".py",
   "mimetype": "text/x-python",
   "name": "python",
   "nbconvert_exporter": "python",
   "pygments_lexer": "ipython3",
   "version": "3.9.12"
  }
 },
 "nbformat": 4,
 "nbformat_minor": 5
}
